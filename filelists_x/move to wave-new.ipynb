{
 "cells": [
  {
   "cell_type": "code",
   "execution_count": 1,
   "metadata": {},
   "outputs": [
    {
     "name": "stdout",
     "output_type": "stream",
     "text": [
      " bnslr_audio_text_test.txt    bnslr_audio_text_val.txt\r\n",
      " bnslr_audio_text_train.txt  'move to wave-new.ipynb'\r\n"
     ]
    }
   ],
   "source": [
    "!ls"
   ]
  },
  {
   "cell_type": "code",
   "execution_count": 26,
   "metadata": {},
   "outputs": [
    {
     "name": "stdout",
     "output_type": "stream",
     "text": [
      "900\n"
     ]
    }
   ],
   "source": [
    "test=\"bnslr_audio_text_test.txt\"\n",
    "train= \"bnslr_audio_text_train.txt\"\n",
    "val= \"bnslr_audio_text_val.txt\"\n",
    "file1 = open(train, 'r') \n",
    "Lines = file1.readlines() \n",
    "  \n",
    "# Strips the newline character \n",
    "import shutil\n",
    "\n",
    "\n",
    "dst= '/home/xaiiub/shobdokutir-tacotron/PyTorch/SpeechSynthesis/Tacotron2/SLRDATA/wavs_to_drive'\n",
    "for i,line in enumerate(Lines): \n",
    "    filename= line.rsplit('|', 1)[0][13:]\n",
    "    src='/home/xaiiub/shobdokutir-tacotron/PyTorch/SpeechSynthesis/Tacotron2/SLRDATA/wavs/'+filename\n",
    "    shutil.copy(src, dst)\n",
    "    #print(line)\n",
    "\n",
    "print(i+1)"
   ]
  },
  {
   "cell_type": "code",
   "execution_count": 21,
   "metadata": {},
   "outputs": [],
   "source": []
  },
  {
   "cell_type": "code",
   "execution_count": 16,
   "metadata": {},
   "outputs": [
    {
     "data": {
      "text/plain": [
       "'/home/xaiiub/shobdokutir-tacotron/PyTorch/SpeechSynthesis/Tacotron2/SLRDATA/wavs_to_drive'"
      ]
     },
     "execution_count": 16,
     "metadata": {},
     "output_type": "execute_result"
    }
   ],
   "source": [
    "from shutil import copyfile\n",
    "copyfile(src, dst)"
   ]
  },
  {
   "cell_type": "code",
   "execution_count": 22,
   "metadata": {},
   "outputs": [
    {
     "data": {
      "text/plain": [
       "'/home/xaiiub/shobdokutir-tacotron/PyTorch/SpeechSynthesis/Tacotron2/SLRDATA/wavs_to_drive/eddcd8f17f.wav'"
      ]
     },
     "execution_count": 22,
     "metadata": {},
     "output_type": "execute_result"
    }
   ],
   "source": []
  },
  {
   "cell_type": "code",
   "execution_count": 27,
   "metadata": {},
   "outputs": [
    {
     "name": "stdout",
     "output_type": "stream",
     "text": [
      " bnslr_audio_text_test.txt    bnslr_audio_text_val.txt\r\n",
      " bnslr_audio_text_train.txt  'move to wave-new.ipynb'\r\n"
     ]
    }
   ],
   "source": [
    "!ls"
   ]
  }
 ],
 "metadata": {
  "kernelspec": {
   "display_name": "Python 3",
   "language": "python",
   "name": "python3"
  },
  "language_info": {
   "codemirror_mode": {
    "name": "ipython",
    "version": 3
   },
   "file_extension": ".py",
   "mimetype": "text/x-python",
   "name": "python",
   "nbconvert_exporter": "python",
   "pygments_lexer": "ipython3",
   "version": "3.8.5"
  }
 },
 "nbformat": 4,
 "nbformat_minor": 4
}
